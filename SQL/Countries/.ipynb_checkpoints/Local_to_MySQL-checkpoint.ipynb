{
 "cells": [
  {
   "cell_type": "markdown",
   "id": "739fb411",
   "metadata": {},
   "source": [
    "# Task: create the Python program which allows to Insert/Update from the local files and Export to the local files. "
   ]
  },
  {
   "cell_type": "markdown",
   "id": "f9ed3a97",
   "metadata": {},
   "source": [
    "### Import libraries"
   ]
  },
  {
   "cell_type": "code",
   "execution_count": 1,
   "id": "a0a182bb",
   "metadata": {},
   "outputs": [],
   "source": [
    "import mysql.connector\n",
    "import pandas as pd\n",
    "from sqlalchemy import create_engine\n",
    "import pymysql"
   ]
  },
  {
   "cell_type": "markdown",
   "id": "78b0e5d3",
   "metadata": {},
   "source": [
    "### Establish connections"
   ]
  },
  {
   "cell_type": "code",
   "execution_count": 2,
   "id": "59a95a43",
   "metadata": {},
   "outputs": [],
   "source": [
    "# Establishing a connection to the database\n",
    "cnx = mysql.connector.connect(user='root',\n",
    "                              password='',\n",
    "                              host='localhost',\n",
    "                              database='countries')"
   ]
  },
  {
   "cell_type": "code",
   "execution_count": 3,
   "id": "807f1db0",
   "metadata": {},
   "outputs": [],
   "source": [
    "# Creating a cursor object\n",
    "cursor = cnx.cursor()"
   ]
  },
  {
   "cell_type": "code",
   "execution_count": 4,
   "id": "9c85ac3d",
   "metadata": {},
   "outputs": [],
   "source": [
    "query2 = (\"INSERT INTO countries (name, area, population) VALUES ('Lithuania',65300, 2615335 )\")\n",
    "cursor.execute(query2)"
   ]
  },
  {
   "cell_type": "markdown",
   "id": "98c3ab4d",
   "metadata": {},
   "source": [
    "### Commit changes"
   ]
  },
  {
   "cell_type": "code",
   "execution_count": 5,
   "id": "633d4507",
   "metadata": {},
   "outputs": [],
   "source": [
    "# Commiting the transaction\n",
    "cnx.commit()"
   ]
  },
  {
   "cell_type": "code",
   "execution_count": 6,
   "id": "a2aef641",
   "metadata": {},
   "outputs": [],
   "source": [
    "query = \"select * from countries\"\n",
    "cursor.execute(query)"
   ]
  },
  {
   "cell_type": "code",
   "execution_count": 7,
   "id": "a86d7b92",
   "metadata": {},
   "outputs": [
    {
     "name": "stdout",
     "output_type": "stream",
     "text": [
      "(14, 'Lithuania', 65300, 2615335)\n"
     ]
    }
   ],
   "source": [
    "# Fetching the results\n",
    "for row in cursor.fetchall():\n",
    "    print(row)"
   ]
  },
  {
   "cell_type": "markdown",
   "id": "d3d6fff5",
   "metadata": {},
   "source": [
    "### Close connections"
   ]
  },
  {
   "cell_type": "code",
   "execution_count": 8,
   "id": "42af69f9",
   "metadata": {},
   "outputs": [],
   "source": [
    "# Closing the cursor and connection\n",
    "cursor.close()\n",
    "cnx.close()"
   ]
  },
  {
   "cell_type": "markdown",
   "id": "ae955f51",
   "metadata": {},
   "source": [
    "## Import/Update MySQL database from local files"
   ]
  },
  {
   "cell_type": "markdown",
   "id": "3d5316fe",
   "metadata": {},
   "source": [
    "### Establish connection to mysql"
   ]
  },
  {
   "cell_type": "code",
   "execution_count": 9,
   "id": "0d67d285",
   "metadata": {},
   "outputs": [],
   "source": [
    "engine = create_engine(\"mysql+pymysql://\" + \"root\" + \":\" + \"@\" + \"localhost\" + \"/\" + \"countries\")\n",
    "conn = engine.connect()"
   ]
  },
  {
   "cell_type": "markdown",
   "id": "8891178c",
   "metadata": {},
   "source": [
    "### Provide local file name"
   ]
  },
  {
   "cell_type": "code",
   "execution_count": 13,
   "id": "368eeca6",
   "metadata": {},
   "outputs": [
    {
     "name": "stdout",
     "output_type": "stream",
     "text": [
      "Please provide a file name: Cities.xlsx\n",
      "Please provide a table name that you want to update: cities\n"
     ]
    }
   ],
   "source": [
    "local_file = input(\"Please provide a file name: \")\n",
    "table = input(\"Please provide a table name that you want to update: \")"
   ]
  },
  {
   "cell_type": "markdown",
   "id": "feabfbcf",
   "metadata": {},
   "source": [
    "### Read excel file"
   ]
  },
  {
   "cell_type": "code",
   "execution_count": 11,
   "id": "b88c5f06",
   "metadata": {},
   "outputs": [],
   "source": [
    "if table == \"countries\" and local_file == \"Countries.xlsx\":\n",
    "    countries = pd.read_excel(local_file)\n",
    "    \n",
    "    # Update MySQL database from excel file\n",
    "    countries.to_sql(name=\"countries\",con=engine,if_exists=\"append\",index=False)"
   ]
  },
  {
   "cell_type": "code",
   "execution_count": 14,
   "id": "5a5cbe60",
   "metadata": {},
   "outputs": [],
   "source": [
    "if table == \"cities\" and local_file == \"Cities.xlsx\":\n",
    "    cities = pd.read_excel(local_file, converters={\"area\":float,\"country\":str,\"external_id\":str}) \n",
    "    \n",
    "    with engine.begin() as con:\n",
    "        query = (\"SELECT * FROM countries\")\n",
    "        countries_db = pd.read_sql(query,con)\n",
    "    \n",
    "    # Merge tables on country name\n",
    "    cities = cities.merge(countries_db,left_on=\"country\",right_on=\"name\")\n",
    "    cities = cities.drop(columns=[\"country\",\"area_y\",\"population_y\",\"name_y\"])\n",
    "\n",
    "    # Rename columns\n",
    "    cities = cities.rename(columns={\"name_x\":\"name\", \"area_x\": \"area\", \"population_x\": \"population\", \"id\":\"country_id\", \"external_id\":\"ext_id\"})\n",
    "    \n",
    "    # Update MySQL database from excel file\n",
    "    cities.to_sql(name=\"cities\",con=engine,if_exists=\"append\",index=False)"
   ]
  },
  {
   "cell_type": "code",
   "execution_count": 15,
   "id": "0ec5ba67",
   "metadata": {},
   "outputs": [],
   "source": [
    "with engine.begin() as con:\n",
    "    query = (\"SELECT * FROM cities\")\n",
    "    cities_db = pd.read_sql(query,con)"
   ]
  },
  {
   "cell_type": "code",
   "execution_count": 16,
   "id": "4b65d4ab",
   "metadata": {},
   "outputs": [
    {
     "data": {
      "text/html": [
       "<div>\n",
       "<style scoped>\n",
       "    .dataframe tbody tr th:only-of-type {\n",
       "        vertical-align: middle;\n",
       "    }\n",
       "\n",
       "    .dataframe tbody tr th {\n",
       "        vertical-align: top;\n",
       "    }\n",
       "\n",
       "    .dataframe thead th {\n",
       "        text-align: right;\n",
       "    }\n",
       "</style>\n",
       "<table border=\"1\" class=\"dataframe\">\n",
       "  <thead>\n",
       "    <tr style=\"text-align: right;\">\n",
       "      <th></th>\n",
       "      <th>id</th>\n",
       "      <th>name</th>\n",
       "      <th>area</th>\n",
       "      <th>population</th>\n",
       "      <th>country_id</th>\n",
       "      <th>ext_id</th>\n",
       "    </tr>\n",
       "  </thead>\n",
       "  <tbody>\n",
       "    <tr>\n",
       "      <th>0</th>\n",
       "      <td>18</td>\n",
       "      <td>Riga</td>\n",
       "      <td>307.0</td>\n",
       "      <td>605802</td>\n",
       "      <td>15</td>\n",
       "      <td>000001</td>\n",
       "    </tr>\n",
       "    <tr>\n",
       "      <th>1</th>\n",
       "      <td>19</td>\n",
       "      <td>Talinn</td>\n",
       "      <td>159.3</td>\n",
       "      <td>426538</td>\n",
       "      <td>16</td>\n",
       "      <td>000002</td>\n",
       "    </tr>\n",
       "  </tbody>\n",
       "</table>\n",
       "</div>"
      ],
      "text/plain": [
       "   id    name   area  population  country_id  ext_id\n",
       "0  18    Riga  307.0      605802          15  000001\n",
       "1  19  Talinn  159.3      426538          16  000002"
      ]
     },
     "execution_count": 16,
     "metadata": {},
     "output_type": "execute_result"
    }
   ],
   "source": [
    "cities_db"
   ]
  },
  {
   "cell_type": "code",
   "execution_count": 17,
   "id": "c2773d52",
   "metadata": {},
   "outputs": [
    {
     "data": {
      "text/html": [
       "<div>\n",
       "<style scoped>\n",
       "    .dataframe tbody tr th:only-of-type {\n",
       "        vertical-align: middle;\n",
       "    }\n",
       "\n",
       "    .dataframe tbody tr th {\n",
       "        vertical-align: top;\n",
       "    }\n",
       "\n",
       "    .dataframe thead th {\n",
       "        text-align: right;\n",
       "    }\n",
       "</style>\n",
       "<table border=\"1\" class=\"dataframe\">\n",
       "  <thead>\n",
       "    <tr style=\"text-align: right;\">\n",
       "      <th></th>\n",
       "      <th>id</th>\n",
       "      <th>name</th>\n",
       "      <th>area</th>\n",
       "      <th>population</th>\n",
       "    </tr>\n",
       "  </thead>\n",
       "  <tbody>\n",
       "    <tr>\n",
       "      <th>0</th>\n",
       "      <td>14</td>\n",
       "      <td>Lithuania</td>\n",
       "      <td>65300</td>\n",
       "      <td>2615335</td>\n",
       "    </tr>\n",
       "    <tr>\n",
       "      <th>1</th>\n",
       "      <td>15</td>\n",
       "      <td>Latvia</td>\n",
       "      <td>64589</td>\n",
       "      <td>1827457</td>\n",
       "    </tr>\n",
       "    <tr>\n",
       "      <th>2</th>\n",
       "      <td>16</td>\n",
       "      <td>Estonia</td>\n",
       "      <td>45228</td>\n",
       "      <td>1326535</td>\n",
       "    </tr>\n",
       "  </tbody>\n",
       "</table>\n",
       "</div>"
      ],
      "text/plain": [
       "   id       name   area  population\n",
       "0  14  Lithuania  65300     2615335\n",
       "1  15     Latvia  64589     1827457\n",
       "2  16    Estonia  45228     1326535"
      ]
     },
     "execution_count": 17,
     "metadata": {},
     "output_type": "execute_result"
    }
   ],
   "source": [
    "countries_db"
   ]
  },
  {
   "cell_type": "markdown",
   "id": "8d94f47a",
   "metadata": {},
   "source": [
    "## Export MySQL data to local files"
   ]
  },
  {
   "cell_type": "code",
   "execution_count": 18,
   "id": "1cc01116",
   "metadata": {},
   "outputs": [],
   "source": [
    "countries_db.to_csv(\"Countries.csv\",index=False,encoding=\"utf8\")\n",
    "countries_db.to_excel(\"Countries_from_sql.xlsx\",index=False)"
   ]
  },
  {
   "cell_type": "code",
   "execution_count": 19,
   "id": "119e5678",
   "metadata": {},
   "outputs": [],
   "source": [
    "cities_db.to_csv(\"Cities.csv\",index=False,encoding=\"utf8\")\n",
    "cities_db.to_excel(\"Cities_from_sql.xlsx\",index=False)"
   ]
  }
 ],
 "metadata": {
  "kernelspec": {
   "display_name": "Python 3 (ipykernel)",
   "language": "python",
   "name": "python3"
  },
  "language_info": {
   "codemirror_mode": {
    "name": "ipython",
    "version": 3
   },
   "file_extension": ".py",
   "mimetype": "text/x-python",
   "name": "python",
   "nbconvert_exporter": "python",
   "pygments_lexer": "ipython3",
   "version": "3.10.11"
  }
 },
 "nbformat": 4,
 "nbformat_minor": 5
}
