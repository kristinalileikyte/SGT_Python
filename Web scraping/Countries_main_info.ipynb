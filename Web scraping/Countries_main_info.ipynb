{
 "cells": [
  {
   "cell_type": "code",
   "execution_count": 1,
   "id": "8a434ec6",
   "metadata": {},
   "outputs": [],
   "source": [
    "from bs4 import BeautifulSoup"
   ]
  },
  {
   "cell_type": "code",
   "execution_count": 2,
   "id": "f4b8fdee",
   "metadata": {},
   "outputs": [],
   "source": [
    "with open(\"List of sovereign states - Wikipedia.html\", \"r\", encoding = \"utf8\") as file:\n",
    "    data_html = file.read()"
   ]
  },
  {
   "cell_type": "code",
   "execution_count": 3,
   "id": "03af04d6",
   "metadata": {},
   "outputs": [],
   "source": [
    "from urllib.request import urlopen"
   ]
  },
  {
   "cell_type": "code",
   "execution_count": 4,
   "id": "aaa5c3ce",
   "metadata": {},
   "outputs": [],
   "source": [
    "import re"
   ]
  },
  {
   "cell_type": "code",
   "execution_count": 5,
   "id": "b0855771",
   "metadata": {},
   "outputs": [],
   "source": [
    "soup = BeautifulSoup(data_html, \"html.parser\")"
   ]
  },
  {
   "cell_type": "code",
   "execution_count": 6,
   "id": "53757113",
   "metadata": {},
   "outputs": [],
   "source": [
    "countries_table = soup.find(class_=\"sortable wikitable jquery-tablesorter\")"
   ]
  },
  {
   "cell_type": "code",
   "execution_count": 7,
   "id": "4eb99dc9",
   "metadata": {},
   "outputs": [],
   "source": [
    "countries_list = countries_table.find(\"tbody\")"
   ]
  },
  {
   "cell_type": "code",
   "execution_count": 8,
   "id": "e29db7e2",
   "metadata": {},
   "outputs": [],
   "source": [
    "countries = countries_list.find_all(\"b\")"
   ]
  },
  {
   "cell_type": "code",
   "execution_count": 9,
   "id": "bd496646",
   "metadata": {},
   "outputs": [],
   "source": [
    "with open(\"SovereignStates.txt\",\"w\", encoding=\"utf8\") as file: \n",
    "    \n",
    "    count = 0\n",
    "    \n",
    "    for country in countries:\n",
    "        \n",
    "        name = str(countries[count].find(\"a\").text)\n",
    "        \n",
    "        file.write(name + \"\\n\\n\" )\n",
    "                \n",
    "        url = countries[count].find(\"a\")[\"href\"]        \n",
    "\n",
    "        country_page = urlopen(url).read()\n",
    "\n",
    "        country_soup =  BeautifulSoup(country_page, \"html.parser\")\n",
    "\n",
    "        body =  country_soup.find(class_=\"mw-body-content mw-content-ltr\")\n",
    "        \n",
    "        body_info = body.find(class_ = \"mw-parser-output\")\n",
    "\n",
    "        \n",
    "        for element in body_info:\n",
    "             \n",
    "            if \"<p>\" in str(element):         \n",
    "                if re.match(r\"(\\r\\n|\\r|\\n)|(Coordinates:)\", str(element.text)):   \n",
    "                    continue\n",
    "        \n",
    "                info = str(element.text)\n",
    "            \n",
    "                clean_info = re.sub(r\"\\[[a-zA-Z]{1}\\]|\\[\\d*\\]\",\"\",info)\n",
    "                \n",
    "                file.write(clean_info)\n",
    "            \n",
    "            if \"<h2>\" in str(element):\n",
    "                break\n",
    "                \n",
    "        file.write(\"\\n\")\n",
    "        \n",
    "        count += 1\n",
    "        "
   ]
  }
 ],
 "metadata": {
  "kernelspec": {
   "display_name": "Python 3 (ipykernel)",
   "language": "python",
   "name": "python3"
  },
  "language_info": {
   "codemirror_mode": {
    "name": "ipython",
    "version": 3
   },
   "file_extension": ".py",
   "mimetype": "text/x-python",
   "name": "python",
   "nbconvert_exporter": "python",
   "pygments_lexer": "ipython3",
   "version": "3.10.11"
  }
 },
 "nbformat": 4,
 "nbformat_minor": 5
}
