{
 "cells": [
  {
   "cell_type": "markdown",
   "id": "b2e34937",
   "metadata": {},
   "source": [
    "# Task: move/migrate MySQL database created during the sessions to SQLite3"
   ]
  },
  {
   "cell_type": "code",
   "execution_count": 1,
   "id": "2046fa12",
   "metadata": {},
   "outputs": [],
   "source": [
    "# Import libraries\n",
    "import sqlite3\n",
    "import pandas as pd\n",
    "import re"
   ]
  },
  {
   "cell_type": "markdown",
   "id": "a57c87c0",
   "metadata": {},
   "source": [
    "## Establish connections"
   ]
  },
  {
   "cell_type": "code",
   "execution_count": 2,
   "id": "043b36cc",
   "metadata": {},
   "outputs": [],
   "source": [
    "# Connect to database or create if doesn't exist\n",
    "conn = sqlite3.connect('web_store.db')"
   ]
  },
  {
   "cell_type": "code",
   "execution_count": 3,
   "id": "8b2d9c40",
   "metadata": {},
   "outputs": [],
   "source": [
    "# Create cursor\n",
    "c = conn.cursor()"
   ]
  },
  {
   "cell_type": "markdown",
   "id": "c72e1563",
   "metadata": {},
   "source": [
    "## Create tables from sql file"
   ]
  },
  {
   "cell_type": "code",
   "execution_count": 4,
   "id": "d11efe3a",
   "metadata": {},
   "outputs": [],
   "source": [
    "# Open and read structure file\n",
    "file = open('web_store_structure.sql','r')\n",
    "sql_file_structure = file.read()\n",
    "file.close()"
   ]
  },
  {
   "cell_type": "markdown",
   "id": "fcc76ede",
   "metadata": {},
   "source": [
    "### Clean structure file"
   ]
  },
  {
   "cell_type": "code",
   "execution_count": 5,
   "id": "8183d257",
   "metadata": {},
   "outputs": [],
   "source": [
    "# Clean comments and unnecessary lines\n",
    "structure_without_comments = re.sub(r\"(SET.*)|(\\/.*)|(ENGINE.*)|(ALTER.*)|(ADD.*)|(MODIFY.*)|(UNSIGNED)\",\"\",sql_file_structure)"
   ]
  },
  {
   "cell_type": "code",
   "execution_count": 6,
   "id": "0eafd586",
   "metadata": {},
   "outputs": [],
   "source": [
    "# Replace id variable statements\n",
    "structure_replaced_id = re.sub(r\"\\`id\\` int\\(\\d+\\)\",\"id integer primary key autoincrement\",structure_without_comments)"
   ]
  },
  {
   "cell_type": "code",
   "execution_count": 7,
   "id": "c0823755",
   "metadata": {},
   "outputs": [],
   "source": [
    "# Replace ints with integers\n",
    "structure_replaced_ints = re.sub(r\"int\\(\\d+\\)\",\"integer\",structure_replaced_id)"
   ]
  },
  {
   "cell_type": "code",
   "execution_count": 8,
   "id": "d7ddbb91",
   "metadata": {},
   "outputs": [],
   "source": [
    "# Replace enum with text\n",
    "structure_replaced_enum = re.sub(r\"enum\\('([a-zA-Z_ ',]*)\\)\",\"text\",structure_replaced_id)"
   ]
  },
  {
   "cell_type": "code",
   "execution_count": 9,
   "id": "5aa1e785",
   "metadata": {},
   "outputs": [],
   "source": [
    "# Clean all whitespace\n",
    "structure_clean = re.sub(r\"\\n \",\"\",structure_replaced_enum)"
   ]
  },
  {
   "cell_type": "code",
   "execution_count": 10,
   "id": "2f496b42",
   "metadata": {},
   "outputs": [],
   "source": [
    "# Split file into queries \n",
    "structure = structure_replaced_enum.strip().split(\"NOT NULL\\n)\")"
   ]
  },
  {
   "cell_type": "code",
   "execution_count": 11,
   "id": "adecebaf",
   "metadata": {},
   "outputs": [
    {
     "data": {
      "text/plain": [
       "''"
      ]
     },
     "execution_count": 11,
     "metadata": {},
     "output_type": "execute_result"
    }
   ],
   "source": [
    "structure.pop()"
   ]
  },
  {
   "cell_type": "code",
   "execution_count": 12,
   "id": "5f2f0023",
   "metadata": {},
   "outputs": [],
   "source": [
    "# Create tables\n",
    "for line in structure:\n",
    "    c.execute(line + \")\")"
   ]
  },
  {
   "cell_type": "code",
   "execution_count": 13,
   "id": "42311c34",
   "metadata": {},
   "outputs": [
    {
     "name": "stdout",
     "output_type": "stream",
     "text": [
      "[('customers',), ('sqlite_sequence',), ('orders',), ('orders_products',), ('products',), ('suppliers',)]\n"
     ]
    }
   ],
   "source": [
    "# Check that tables was successfully created in database\n",
    "c.execute(\"SELECT name FROM sqlite_master WHERE type='table';\")\n",
    "print(c.fetchall())"
   ]
  },
  {
   "cell_type": "markdown",
   "id": "bcbfda81",
   "metadata": {},
   "source": [
    "## Insert data into tables from sql file"
   ]
  },
  {
   "cell_type": "code",
   "execution_count": 14,
   "id": "d57528bc",
   "metadata": {},
   "outputs": [],
   "source": [
    "# Open and read data file\n",
    "file_data = open('web_store_data.sql','r')\n",
    "sql_file_data = file_data.read()\n",
    "file_data.close()"
   ]
  },
  {
   "cell_type": "markdown",
   "id": "bef63ea4",
   "metadata": {},
   "source": [
    "### Clean data file"
   ]
  },
  {
   "cell_type": "code",
   "execution_count": 15,
   "id": "ba4c91ff",
   "metadata": {},
   "outputs": [],
   "source": [
    "# Clean data file\n",
    "data_clean = re.sub(\"(SET.*)|(\\/.*)\",\"\",sql_file_data)"
   ]
  },
  {
   "cell_type": "code",
   "execution_count": 16,
   "id": "aa8f2232",
   "metadata": {},
   "outputs": [
    {
     "data": {
      "text/plain": [
       "''"
      ]
     },
     "execution_count": 16,
     "metadata": {},
     "output_type": "execute_result"
    }
   ],
   "source": [
    "# Split file into queries \n",
    "data =data_clean.strip().split(\";\")\n",
    "data.pop()"
   ]
  },
  {
   "cell_type": "code",
   "execution_count": 17,
   "id": "25a09ec5",
   "metadata": {},
   "outputs": [],
   "source": [
    "# Insert values in tables\n",
    "for query in data:\n",
    "    c.execute(query)"
   ]
  },
  {
   "cell_type": "code",
   "execution_count": 18,
   "id": "f7d6f453",
   "metadata": {},
   "outputs": [
    {
     "name": "stdout",
     "output_type": "stream",
     "text": [
      "[(1, 'Microsoft', 'Bill Gates', '+37012346789', 'bill.gates@microsoft.com'), (2, 'HP', 'Enrique Lores', '+37012346789', 'enrique.lores@hp.com'), (3, 'Apple', 'Tim Cook', '+37012346789', 'tim.cook@apple.com')]\n"
     ]
    }
   ],
   "source": [
    "# Check data in table\n",
    "c.execute(\"SELECT * FROM suppliers;\")\n",
    "print(c.fetchall())"
   ]
  },
  {
   "cell_type": "markdown",
   "id": "6573f0e3",
   "metadata": {},
   "source": [
    "## Commit changes"
   ]
  },
  {
   "cell_type": "code",
   "execution_count": 19,
   "id": "488132dc",
   "metadata": {},
   "outputs": [],
   "source": [
    "conn.commit()"
   ]
  },
  {
   "cell_type": "markdown",
   "id": "5645a99c",
   "metadata": {},
   "source": [
    "## Close connections "
   ]
  },
  {
   "cell_type": "code",
   "execution_count": 20,
   "id": "ef38709b",
   "metadata": {},
   "outputs": [],
   "source": [
    "c.close()\n",
    "conn.close()"
   ]
  },
  {
   "cell_type": "markdown",
   "id": "61b16ef9",
   "metadata": {},
   "source": [
    "## SQLite via Pandas"
   ]
  },
  {
   "cell_type": "code",
   "execution_count": 21,
   "id": "14b8e95b",
   "metadata": {},
   "outputs": [],
   "source": [
    "# Establish connection\n",
    "con = sqlite3.connect('web_store.db')"
   ]
  },
  {
   "cell_type": "code",
   "execution_count": 22,
   "id": "a92ae459",
   "metadata": {},
   "outputs": [
    {
     "data": {
      "text/html": [
       "<div>\n",
       "<style scoped>\n",
       "    .dataframe tbody tr th:only-of-type {\n",
       "        vertical-align: middle;\n",
       "    }\n",
       "\n",
       "    .dataframe tbody tr th {\n",
       "        vertical-align: top;\n",
       "    }\n",
       "\n",
       "    .dataframe thead th {\n",
       "        text-align: right;\n",
       "    }\n",
       "</style>\n",
       "<table border=\"1\" class=\"dataframe\">\n",
       "  <thead>\n",
       "    <tr style=\"text-align: right;\">\n",
       "      <th></th>\n",
       "      <th>id</th>\n",
       "      <th>name</th>\n",
       "      <th>contact</th>\n",
       "      <th>telephone_number</th>\n",
       "      <th>email</th>\n",
       "    </tr>\n",
       "  </thead>\n",
       "  <tbody>\n",
       "    <tr>\n",
       "      <th>0</th>\n",
       "      <td>1</td>\n",
       "      <td>Microsoft</td>\n",
       "      <td>Bill Gates</td>\n",
       "      <td>+37012346789</td>\n",
       "      <td>bill.gates@microsoft.com</td>\n",
       "    </tr>\n",
       "    <tr>\n",
       "      <th>1</th>\n",
       "      <td>2</td>\n",
       "      <td>HP</td>\n",
       "      <td>Enrique Lores</td>\n",
       "      <td>+37012346789</td>\n",
       "      <td>enrique.lores@hp.com</td>\n",
       "    </tr>\n",
       "    <tr>\n",
       "      <th>2</th>\n",
       "      <td>3</td>\n",
       "      <td>Apple</td>\n",
       "      <td>Tim Cook</td>\n",
       "      <td>+37012346789</td>\n",
       "      <td>tim.cook@apple.com</td>\n",
       "    </tr>\n",
       "  </tbody>\n",
       "</table>\n",
       "</div>"
      ],
      "text/plain": [
       "   id       name        contact telephone_number                     email\n",
       "0   1  Microsoft     Bill Gates     +37012346789  bill.gates@microsoft.com\n",
       "1   2         HP  Enrique Lores     +37012346789      enrique.lores@hp.com\n",
       "2   3      Apple       Tim Cook     +37012346789        tim.cook@apple.com"
      ]
     },
     "execution_count": 22,
     "metadata": {},
     "output_type": "execute_result"
    }
   ],
   "source": [
    "# Perform SQL query and return pandas data frame\n",
    "df_suppliers = pd.read_sql_query ('select * from suppliers', con)\n",
    "df_suppliers"
   ]
  },
  {
   "cell_type": "code",
   "execution_count": 23,
   "id": "80b5d229",
   "metadata": {},
   "outputs": [
    {
     "data": {
      "text/html": [
       "<div>\n",
       "<style scoped>\n",
       "    .dataframe tbody tr th:only-of-type {\n",
       "        vertical-align: middle;\n",
       "    }\n",
       "\n",
       "    .dataframe tbody tr th {\n",
       "        vertical-align: top;\n",
       "    }\n",
       "\n",
       "    .dataframe thead th {\n",
       "        text-align: right;\n",
       "    }\n",
       "</style>\n",
       "<table border=\"1\" class=\"dataframe\">\n",
       "  <thead>\n",
       "    <tr style=\"text-align: right;\">\n",
       "      <th></th>\n",
       "      <th>id</th>\n",
       "      <th>name</th>\n",
       "      <th>description</th>\n",
       "      <th>price</th>\n",
       "      <th>warranty_period</th>\n",
       "      <th>category</th>\n",
       "      <th>supplier_id</th>\n",
       "    </tr>\n",
       "  </thead>\n",
       "  <tbody>\n",
       "    <tr>\n",
       "      <th>0</th>\n",
       "      <td>1</td>\n",
       "      <td>HP Elite Dragonfly G33</td>\n",
       "      <td>The HP Dragonfly Folio G3â€™s excellent design...</td>\n",
       "      <td>1900.00</td>\n",
       "      <td>12</td>\n",
       "      <td>PCs</td>\n",
       "      <td>2</td>\n",
       "    </tr>\n",
       "    <tr>\n",
       "      <th>1</th>\n",
       "      <td>2</td>\n",
       "      <td>Microsoft Office</td>\n",
       "      <td>Microsoft 365 is our cloud-powered productivit...</td>\n",
       "      <td>69.99</td>\n",
       "      <td>24</td>\n",
       "      <td>Software</td>\n",
       "      <td>1</td>\n",
       "    </tr>\n",
       "    <tr>\n",
       "      <th>2</th>\n",
       "      <td>3</td>\n",
       "      <td>Magic Mouse</td>\n",
       "      <td>Magic Mouse is wireless and rechargeable, with...</td>\n",
       "      <td>99.00</td>\n",
       "      <td>18</td>\n",
       "      <td>Accessories</td>\n",
       "      <td>3</td>\n",
       "    </tr>\n",
       "  </tbody>\n",
       "</table>\n",
       "</div>"
      ],
      "text/plain": [
       "   id                    name   \n",
       "0   1  HP Elite Dragonfly G33  \\\n",
       "1   2        Microsoft Office   \n",
       "2   3             Magic Mouse   \n",
       "\n",
       "                                         description    price   \n",
       "0  The HP Dragonfly Folio G3â€™s excellent design...  1900.00  \\\n",
       "1  Microsoft 365 is our cloud-powered productivit...    69.99   \n",
       "2  Magic Mouse is wireless and rechargeable, with...    99.00   \n",
       "\n",
       "   warranty_period     category  supplier_id  \n",
       "0               12          PCs            2  \n",
       "1               24     Software            1  \n",
       "2               18  Accessories            3  "
      ]
     },
     "execution_count": 23,
     "metadata": {},
     "output_type": "execute_result"
    }
   ],
   "source": [
    "# Perform SQL query and return pandas data frame\n",
    "df_products = pd.read_sql_query ('select * from products', con)\n",
    "df_products"
   ]
  },
  {
   "cell_type": "markdown",
   "id": "5aeaa202",
   "metadata": {},
   "source": [
    "## Close connection"
   ]
  },
  {
   "cell_type": "code",
   "execution_count": 24,
   "id": "38cd6d47",
   "metadata": {},
   "outputs": [],
   "source": [
    "con.close()"
   ]
  }
 ],
 "metadata": {
  "kernelspec": {
   "display_name": "Python 3 (ipykernel)",
   "language": "python",
   "name": "python3"
  },
  "language_info": {
   "codemirror_mode": {
    "name": "ipython",
    "version": 3
   },
   "file_extension": ".py",
   "mimetype": "text/x-python",
   "name": "python",
   "nbconvert_exporter": "python",
   "pygments_lexer": "ipython3",
   "version": "3.10.11"
  }
 },
 "nbformat": 4,
 "nbformat_minor": 5
}
